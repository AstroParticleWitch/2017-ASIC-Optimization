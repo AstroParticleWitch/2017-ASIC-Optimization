{
 "cells": [
  {
   "cell_type": "code",
   "execution_count": 1,
   "metadata": {
    "collapsed": true
   },
   "outputs": [],
   "source": [
    "## Compare three ASIC initialization settings\n",
    "\n",
    "# 1 - Load in data\n",
    "# 2 - Create block incrementation list\n",
    "# 3 - "
   ]
  },
  {
   "cell_type": "code",
   "execution_count": 2,
   "metadata": {
    "collapsed": false
   },
   "outputs": [
    {
     "name": "stdout",
     "output_type": "stream",
     "text": [
      "Populating the interactive namespace from numpy and matplotlib\n"
     ]
    }
   ],
   "source": [
    "%pylab inline\n",
    "import numpy as np\n",
    "import matplotlib.pyplot as plt\n",
    "import os.path"
   ]
  },
  {
   "cell_type": "code",
   "execution_count": 3,
   "metadata": {
    "collapsed": false
   },
   "outputs": [
    {
     "data": {
      "text/plain": [
       "<matplotlib.figure.Figure at 0x1118d7438>"
      ]
     },
     "execution_count": 3,
     "metadata": {},
     "output_type": "execute_result"
    },
    {
     "data": {
      "text/plain": [
       "<matplotlib.figure.Figure at 0x1118d7438>"
      ]
     },
     "metadata": {},
     "output_type": "display_data"
    }
   ],
   "source": [
    "#Setting plot default sizes\n",
    "plt.rc('axes', titlesize = 40)\n",
    "plt.rc('axes', labelsize = 30)\n",
    "plt.rc('xtick', labelsize = 20)\n",
    "plt.rc('ytick', labelsize = 20)\n",
    "plt.rc('legend', fontsize = 20)\n",
    "plt.rc('figure', titlesize = 40)\n",
    "plt.figure(figsize(12,9))"
   ]
  },
  {
   "cell_type": "code",
   "execution_count": 4,
   "metadata": {
    "collapsed": true
   },
   "outputs": [],
   "source": [
    "# Load in Data\n",
    "pedA = dict(np.load(\"/users/wipacuser/Desktop/CTA/Runs/ASIC settings comparison/sampleFileAllBlocks_run321750ASIC0CH6.npz\", 'r'))\n",
    "dataA = dict(np.load(\"/users/wipacuser/Desktop/CTA/Runs/ASIC settings comparison/sampleFileAllBlocks_run321751ASIC0CH6.npz\", 'r'))\n",
    "pedB = dict(np.load(\"/users/wipacuser/Desktop/CTA/Runs/ASIC settings comparison/sampleFileAllBlocks_run321752ASIC0CH6.npz\", 'r'))\n",
    "dataB = dict(np.load(\"/users/wipacuser/Desktop/CTA/Runs/ASIC settings comparison/sampleFileAllBlocks_run321753ASIC0CH6.npz\", 'r'))\n",
    "pedC = dict(np.load(\"/users/wipacuser/Desktop/CTA/Runs/ASIC settings comparison/sampleFileAllBlocks_run321754ASIC0CH6.npz\", 'r'))\n",
    "dataC = dict(np.load(\"/users/wipacuser/Desktop/CTA/Runs/ASIC settings comparison/sampleFileAllBlocks_run321755ASIC0CH6.npz\", 'r'))"
   ]
  },
  {
   "cell_type": "code",
   "execution_count": 20,
   "metadata": {
    "collapsed": true
   },
   "outputs": [],
   "source": [
    "# Create block incrementation list\n",
    "# if current block is even, next block is current+3\n",
    "# if current block is odd, next block is current-1\n",
    "\n",
    "current_block = [i for i in range(512)]\n",
    "\n",
    "block_incr = []\n",
    "for block in current_block:\n",
    "    if block%2==0:\n",
    "        block_incr.append((block+3)%512)\n",
    "    else:\n",
    "        block_incr.append((block-1)%512)\n",
    "# block_incr has index i=current block and value block_incr[i]=next block"
   ]
  },
  {
   "cell_type": "code",
   "execution_count": 17,
   "metadata": {
    "collapsed": false
   },
   "outputs": [
    {
     "name": "stdout",
     "output_type": "stream",
     "text": [
      "10\n"
     ]
    }
   ],
   "source": [
    "num_blocks = int(len(pedA['samples'][0])/32)\n",
    "print(num_blocks)"
   ]
  },
  {
   "cell_type": "code",
   "execution_count": 18,
   "metadata": {
    "collapsed": true
   },
   "outputs": [],
   "source": [
    "# Create list of ped by block\n",
    "\n",
    "ped_blocks_A = [[i*0] for i in range(512)]\n",
    "\n",
    "for event in range(len(pedA['event'])):\n",
    "    if pedA['phase'][event] == 23:\n",
    "        block = pedA['block'][event]\n",
    "        if block%2 == 0:\n",
    "            block = (block+3)%512\n",
    "            ped_blocks_A[block].append(pedA['samples'][event][8:40])\n",
    "            block = (block-1)%512\n",
    "            ped_blocks_A[block].append(pedA['samples'][event][40:72])\n",
    "            block = (block+3)%512\n",
    "            ped_blocks_A[block].append(pedA['samples'][event][72:104])\n",
    "            block = (block-1)%512\n",
    "            ped_blocks_A[block].append(pedA['samples'][event][104:136])\n",
    "            block = (block+3)%512\n",
    "            ped_blocks_A[block].append(pedA['samples'][event][136:168])\n",
    "            block = (block-1)%512\n",
    "            ped_blocks_A[block].append(pedA['samples'][event][168:200])\n",
    "            block = (block+3)%512\n",
    "            ped_blocks_A[block].append(pedA['samples'][event][200:232])\n",
    "            block = (block-1)%512\n",
    "            ped_blocks_A[block].append(pedA['samples'][event][232:264])\n",
    "            block = (block+3)%512\n",
    "            ped_blocks_A[block].append(pedA['samples'][event][264:296])\n",
    "        else:\n",
    "            block = (block-1)%512\n",
    "            ped_blocks_A[block].append(pedA['samples'][event][8:40])\n",
    "            block = (block+3)%512\n",
    "            ped_blocks_A[block].append(pedA['samples'][event][40:72])\n",
    "            block = (block-1)%512\n",
    "            ped_blocks_A[block].append(pedA['samples'][event][72:104])\n",
    "            block = (block+3)%512\n",
    "            ped_blocks_A[block].append(pedA['samples'][event][104:136])\n",
    "            block = (block-1)%512\n",
    "            ped_blocks_A[block].append(pedA['samples'][event][136:168])\n",
    "            block = (block+3)%512\n",
    "            ped_blocks_A[block].append(pedA['samples'][event][168:200])\n",
    "            block = (block-1)%512\n",
    "            ped_blocks_A[block].append(pedA['samples'][event][200:232])\n",
    "            block = (block+3)%512\n",
    "            ped_blocks_A[block].append(pedA['samples'][event][232:264])\n",
    "            block = (block-1)%512\n",
    "            ped_blocks_A[block].append(pedA['samples'][event][264:296])"
   ]
  },
  {
   "cell_type": "code",
   "execution_count": 23,
   "metadata": {
    "collapsed": false
   },
   "outputs": [],
   "source": [
    "# Create list of ped by block\n",
    "\n",
    "ped_blocks_A_test = [[i*0] for i in range(512)]\n",
    "phase = 23\n",
    "num_blocks = int(len(pedA['samples'][0])/32)\n",
    "\n",
    "for event in range(len(pedA['event'])):\n",
    "    if pedA['phase'][event] == phase:\n",
    "        block = pedA['block'][event]\n",
    "        for segment in range(num_blocks-1):\n",
    "            block = block_incr[block]\n",
    "            ped_blocks_A_test[block].append(pedA['samples'][event][((31-phase)+(segment*32)):((31-phase)+(segment*32))+32])"
   ]
  },
  {
   "cell_type": "code",
   "execution_count": 32,
   "metadata": {
    "collapsed": false
   },
   "outputs": [
    {
     "ename": "ValueError",
     "evalue": "setting an array element with a sequence.",
     "output_type": "error",
     "traceback": [
      "\u001b[0;31m---------------------------------------------------------------------------\u001b[0m",
      "\u001b[0;31mAttributeError\u001b[0m                            Traceback (most recent call last)",
      "\u001b[0;32m/anaconda/lib/python3.6/site-packages/numpy/core/fromnumeric.py\u001b[0m in \u001b[0;36mshape\u001b[0;34m(a)\u001b[0m\n\u001b[1;32m   1612\u001b[0m     \u001b[0;32mtry\u001b[0m\u001b[0;34m:\u001b[0m\u001b[0;34m\u001b[0m\u001b[0m\n\u001b[0;32m-> 1613\u001b[0;31m         \u001b[0mresult\u001b[0m \u001b[0;34m=\u001b[0m \u001b[0ma\u001b[0m\u001b[0;34m.\u001b[0m\u001b[0mshape\u001b[0m\u001b[0;34m\u001b[0m\u001b[0m\n\u001b[0m\u001b[1;32m   1614\u001b[0m     \u001b[0;32mexcept\u001b[0m \u001b[0mAttributeError\u001b[0m\u001b[0;34m:\u001b[0m\u001b[0;34m\u001b[0m\u001b[0m\n",
      "\u001b[0;31mAttributeError\u001b[0m: 'list' object has no attribute 'shape'",
      "\nDuring handling of the above exception, another exception occurred:\n",
      "\u001b[0;31mValueError\u001b[0m                                Traceback (most recent call last)",
      "\u001b[0;32m<ipython-input-32-47f56fce30ff>\u001b[0m in \u001b[0;36m<module>\u001b[0;34m()\u001b[0m\n\u001b[0;32m----> 1\u001b[0;31m \u001b[0mprint\u001b[0m\u001b[0;34m(\u001b[0m\u001b[0mshape\u001b[0m\u001b[0;34m(\u001b[0m\u001b[0mped_blocks_A\u001b[0m\u001b[0;34m[\u001b[0m\u001b[0;36m0\u001b[0m\u001b[0;34m]\u001b[0m\u001b[0;34m)\u001b[0m\u001b[0;34m)\u001b[0m\u001b[0;34m\u001b[0m\u001b[0m\n\u001b[0m\u001b[1;32m      2\u001b[0m \u001b[0mprint\u001b[0m\u001b[0;34m(\u001b[0m\u001b[0mshape\u001b[0m\u001b[0;34m(\u001b[0m\u001b[0mped_blocks_A_test\u001b[0m\u001b[0;34m[\u001b[0m\u001b[0;36m0\u001b[0m\u001b[0;34m]\u001b[0m\u001b[0;34m)\u001b[0m\u001b[0;34m)\u001b[0m\u001b[0;34m\u001b[0m\u001b[0m\n",
      "\u001b[0;32m/anaconda/lib/python3.6/site-packages/numpy/core/fromnumeric.py\u001b[0m in \u001b[0;36mshape\u001b[0;34m(a)\u001b[0m\n\u001b[1;32m   1613\u001b[0m         \u001b[0mresult\u001b[0m \u001b[0;34m=\u001b[0m \u001b[0ma\u001b[0m\u001b[0;34m.\u001b[0m\u001b[0mshape\u001b[0m\u001b[0;34m\u001b[0m\u001b[0m\n\u001b[1;32m   1614\u001b[0m     \u001b[0;32mexcept\u001b[0m \u001b[0mAttributeError\u001b[0m\u001b[0;34m:\u001b[0m\u001b[0;34m\u001b[0m\u001b[0m\n\u001b[0;32m-> 1615\u001b[0;31m         \u001b[0mresult\u001b[0m \u001b[0;34m=\u001b[0m \u001b[0masarray\u001b[0m\u001b[0;34m(\u001b[0m\u001b[0ma\u001b[0m\u001b[0;34m)\u001b[0m\u001b[0;34m.\u001b[0m\u001b[0mshape\u001b[0m\u001b[0;34m\u001b[0m\u001b[0m\n\u001b[0m\u001b[1;32m   1616\u001b[0m     \u001b[0;32mreturn\u001b[0m \u001b[0mresult\u001b[0m\u001b[0;34m\u001b[0m\u001b[0m\n\u001b[1;32m   1617\u001b[0m \u001b[0;34m\u001b[0m\u001b[0m\n",
      "\u001b[0;32m/anaconda/lib/python3.6/site-packages/numpy/core/numeric.py\u001b[0m in \u001b[0;36masarray\u001b[0;34m(a, dtype, order)\u001b[0m\n\u001b[1;32m    480\u001b[0m \u001b[0;34m\u001b[0m\u001b[0m\n\u001b[1;32m    481\u001b[0m     \"\"\"\n\u001b[0;32m--> 482\u001b[0;31m     \u001b[0;32mreturn\u001b[0m \u001b[0marray\u001b[0m\u001b[0;34m(\u001b[0m\u001b[0ma\u001b[0m\u001b[0;34m,\u001b[0m \u001b[0mdtype\u001b[0m\u001b[0;34m,\u001b[0m \u001b[0mcopy\u001b[0m\u001b[0;34m=\u001b[0m\u001b[0;32mFalse\u001b[0m\u001b[0;34m,\u001b[0m \u001b[0morder\u001b[0m\u001b[0;34m=\u001b[0m\u001b[0morder\u001b[0m\u001b[0;34m)\u001b[0m\u001b[0;34m\u001b[0m\u001b[0m\n\u001b[0m\u001b[1;32m    483\u001b[0m \u001b[0;34m\u001b[0m\u001b[0m\n\u001b[1;32m    484\u001b[0m \u001b[0;32mdef\u001b[0m \u001b[0masanyarray\u001b[0m\u001b[0;34m(\u001b[0m\u001b[0ma\u001b[0m\u001b[0;34m,\u001b[0m \u001b[0mdtype\u001b[0m\u001b[0;34m=\u001b[0m\u001b[0;32mNone\u001b[0m\u001b[0;34m,\u001b[0m \u001b[0morder\u001b[0m\u001b[0;34m=\u001b[0m\u001b[0;32mNone\u001b[0m\u001b[0;34m)\u001b[0m\u001b[0;34m:\u001b[0m\u001b[0;34m\u001b[0m\u001b[0m\n",
      "\u001b[0;31mValueError\u001b[0m: setting an array element with a sequence."
     ]
    }
   ],
   "source": [
    "print(shape(ped_blocks_A[0]))\n",
    "print(shape(ped_blocks_A_test[0]))"
   ]
  },
  {
   "cell_type": "code",
   "execution_count": null,
   "metadata": {
    "collapsed": true
   },
   "outputs": [],
   "source": []
  }
 ],
 "metadata": {
  "kernelspec": {
   "display_name": "Python 3",
   "language": "python",
   "name": "python3"
  },
  "language_info": {
   "codemirror_mode": {
    "name": "ipython",
    "version": 3
   },
   "file_extension": ".py",
   "mimetype": "text/x-python",
   "name": "python",
   "nbconvert_exporter": "python",
   "pygments_lexer": "ipython3",
   "version": "3.6.0"
  }
 },
 "nbformat": 4,
 "nbformat_minor": 2
}
